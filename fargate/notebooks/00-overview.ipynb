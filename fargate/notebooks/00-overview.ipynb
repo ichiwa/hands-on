{
 "cells": [
  {
   "cell_type": "markdown",
   "metadata": {},
   "source": [
    "# ハンズオンの概要\n",
    "\n",
    "このハンズオンで実施する内容を概観します。\n",
    "\n",
    "## Jupyter notebook について\n",
    "\n",
    "[Jupyter Notebook](https://jupyter-notebook.readthedocs.io/en/stable/) はブラウザから操作のできる、Python やシェルスクリプトなどの実行環境です。  \n",
    "\n",
    "**セル**（いま左側にフォーカスがあたっていますよね？この単位がセルです）ごとに  \n",
    "上方のメニューにある `▶︎| RUN ` でコマンドを実行することができます。\n",
    "\n",
    "`Shift + Enter` キーでも実行しながら先に進むことができます。  \n",
    "試しに何度か押してみましょう！"
   ]
  },
  {
   "cell_type": "code",
   "execution_count": null,
   "metadata": {},
   "outputs": [],
   "source": [
    "date"
   ]
  },
  {
   "cell_type": "markdown",
   "metadata": {},
   "source": [
    "応答例）\n",
    "```text\n",
    "Fri Jul 27 12:30:25 UTC 2018\n",
    "```"
   ]
  },
  {
   "cell_type": "code",
   "execution_count": null,
   "metadata": {},
   "outputs": [],
   "source": [
    "ls"
   ]
  },
  {
   "cell_type": "markdown",
   "metadata": {},
   "source": [
    "応答例）\n",
    "```text\n",
    "00-overview.ipynb                 04-deploy-to-production.ipynb\n",
    "01-provision-aws-resources.ipynb  05-teardown-resources.ipynb\n",
    "02-develop-with-git.ipynb         application\n",
    "03-deploy-to-staging.ipynb        infrastructure\n",
    "```"
   ]
  },
  {
   "cell_type": "markdown",
   "metadata": {},
   "source": [
    "今回利用するコンテンツはすべて起動した Docker イメージの中にあり、  \n",
    "AWS CLI 以外の処理は **すべてコンテナの中で完結** しています。  \n",
    "ホスト側の環境には影響を与えませんので安心してご利用ください。 \n",
    "\n",
    "すべてのノートは画面左上の `File` からダウンロードすることもできますし  \n",
    "`jupyter アイコン` からファイル一覧に戻り、その他のファイル操作をすることもできます。 \n",
    "\n",
    "（すべてのソースコードは [こちら](https://github.com/jawsug-container/hands-on) で公開されています）"
   ]
  },
  {
   "cell_type": "markdown",
   "metadata": {},
   "source": [
    "## ハンズオンと、そのサンプルケースの流れ\n",
    "\n",
    "### サンプルケース\n",
    "\n",
    "このハンズオンは、とあるアプリケーション開発者が成果物を **Fargate で公開する** ことを想定しています。  \n",
    "\n",
    "ビルド・テスト・デプロイ・リリースは極力自動化されており、以下のプロセスを経ます。\n",
    "\n",
    "1. **master ブランチに push** するとテストが走り、テストが通れば **edge** 環境にデプロイされる\n",
    "\n",
    "<img src=\"/files/notebook-assets/workflow-1.png\" width=\"500px\">\n",
    "\n",
    "2. edge 環境を実際にさわって確認\n",
    "3. release ブランチに対してプルリクエストを作成\n",
    "4. **release ブランチにマージ** されるとテストが走り、テストが通れば **staging** 環境にデプロイされる\n",
    "\n",
    "<img src=\"/files/notebook-assets/workflow-2.png\" width=\"500px\">\n",
    "\n",
    "5. staging 環境を実際にさわって確認\n",
    "6. **承認ボタンのクリック** で **production** 環境にリリースされる\n",
    "\n",
    "<img src=\"/files/notebook-assets/workflow-3.png\" width=\"500px\">\n",
    "\n",
    "7. production 環境を実際にさわって確認"
   ]
  },
  {
   "cell_type": "markdown",
   "metadata": {},
   "source": [
    "### ハンズオンの流れ\n",
    "\n",
    "サンプルケースの流れに添い、追体験をしていきます。\n",
    "\n",
    "| ノート名 | |\n",
    "| :-- | :-- |\n",
    "| 01-provision-aws-resources | 後述のシステム構成を AWS 上にプロビジョニング |\n",
    "| 02-develop-with-git | CodeCommit と git を使い、サンプルケースの **1, 2** を体験 |\n",
    "| 03-deploy-to-staging | ステージング環境を作りつつ、サンプルケースの **3, 4, 5** を体験 |\n",
    "| 04-deploy-to-production | 本番環境を作りつつ、サンプルケースの **6, 7** を体験 |\n",
    "| 05-teardown-resources | AWS リソースを掃除 |"
   ]
  },
  {
   "cell_type": "markdown",
   "metadata": {},
   "source": [
    "## システム構成\n",
    "\n",
    "基本的にはこうです。\n",
    "\n",
    "- Fargate (on ECS) を使って Web アプリケーションを提供\n",
    "- CodeCommit と CodeBuild と CloudFormation を CodePipeline で括った CI/CD パイプラインでデプロイ"
   ]
  },
  {
   "cell_type": "markdown",
   "metadata": {},
   "source": [
    "最終的なシステム構成は以下の通りです。\n",
    "\n",
    "<img src=\"/files/notebook-assets/whole-arch.png\" width=\"500px\">"
   ]
  },
  {
   "cell_type": "markdown",
   "metadata": {},
   "source": [
    "## このハンズオンに含まれていないもの\n",
    "\n",
    "通常 CI/CD にはある類のものも、ハンズオンの簡素化のため除外しています。  \n",
    "実際に本番稼働させるにあたっては別途十分な検討をしてください。\n",
    "\n",
    "- 本来デプロイ前後に可能な各種テスト、開発者へのフィードバック\n",
    "- ブランチ別のテストや PR に対してのテスト、レギュレーションの設定\n",
    "- 各種メトリクスやインジケータのモニタリング、通知、初期対応\n",
    "- イシュー・インシデントのトラック、トレース情報の収集の自動化\n",
    "\n",
    "などなど"
   ]
  }
 ],
 "metadata": {
  "kernelspec": {
   "display_name": "Bash",
   "language": "bash",
   "name": "bash"
  },
  "language_info": {
   "codemirror_mode": "shell",
   "file_extension": ".sh",
   "mimetype": "text/x-sh",
   "name": "bash"
  }
 },
 "nbformat": 4,
 "nbformat_minor": 2
}
