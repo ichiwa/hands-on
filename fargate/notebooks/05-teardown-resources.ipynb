{
 "cells": [
  {
   "cell_type": "markdown",
   "metadata": {},
   "source": [
    "# 5. AWS リソースの削除\n",
    "\n",
    "## 5.1. Production 環境のサービス停止"
   ]
  },
  {
   "cell_type": "code",
   "execution_count": null,
   "metadata": {},
   "outputs": [],
   "source": [
    "source ~/config/.env\n",
    "\n",
    "aws cloudformation delete-stack --stack-name \"${PRODUCTION_STACK_NAME}\"\n",
    "aws cloudformation wait stack-delete-complete --stack-name \"${PRODUCTION_STACK_NAME}\""
   ]
  },
  {
   "cell_type": "markdown",
   "metadata": {},
   "source": [
    "## 5.3. Staging 環境のサービス停止"
   ]
  },
  {
   "cell_type": "code",
   "execution_count": null,
   "metadata": {},
   "outputs": [],
   "source": [
    "source ~/config/.env\n",
    "\n",
    "aws cloudformation delete-stack --stack-name \"${STAGING_STACK_NAME}\"\n",
    "aws cloudformation wait stack-delete-complete --stack-name \"${STAGING_STACK_NAME}\""
   ]
  },
  {
   "cell_type": "markdown",
   "metadata": {},
   "source": [
    "## 5.3. Edge 環境のサービス停止"
   ]
  },
  {
   "cell_type": "code",
   "execution_count": null,
   "metadata": {},
   "outputs": [],
   "source": [
    "aws cloudformation delete-stack --stack-name \"${EDGE_STACK_NAME}\"\n",
    "aws cloudformation wait stack-delete-complete --stack-name \"${EDGE_STACK_NAME}\""
   ]
  },
  {
   "cell_type": "markdown",
   "metadata": {},
   "source": [
    "成功時応答）\n",
    "```text\n",
    "なし\n",
    "```"
   ]
  },
  {
   "cell_type": "markdown",
   "metadata": {},
   "source": [
    "## 5.4. ECR リポジトリの削除"
   ]
  },
  {
   "cell_type": "code",
   "execution_count": null,
   "metadata": {},
   "outputs": [],
   "source": [
    "aws ecr delete-repository --repository-name fargate-handson/api --force"
   ]
  },
  {
   "cell_type": "markdown",
   "metadata": {},
   "source": [
    "成功時応答例）\n",
    "```text\n",
    "{\n",
    "  \"repository\": {\n",
    "    \"repositoryArn\": \"arn:aws:ecr:ap-northeast-1:xxx:repository/fargate-handson/api\",\n",
    "    \"registryId\": \"111111111111\",\n",
    "    ..\n",
    "  }\n",
    "}\n",
    "```"
   ]
  },
  {
   "cell_type": "markdown",
   "metadata": {},
   "source": [
    "## 5.5. VPC や CI/CD パイプラインの削除"
   ]
  },
  {
   "cell_type": "code",
   "execution_count": null,
   "metadata": {},
   "outputs": [],
   "source": [
    "aws cloudformation delete-stack --stack-name \"${BASE_STACK_NAME}\"\n",
    "aws cloudformation wait stack-delete-complete --stack-name \"${BASE_STACK_NAME}\""
   ]
  },
  {
   "cell_type": "markdown",
   "metadata": {},
   "source": [
    "成功時応答）\n",
    "```text\n",
    "なし\n",
    "```"
   ]
  },
  {
   "cell_type": "markdown",
   "metadata": {},
   "source": [
    "## 5.6. S3 バケットの削除"
   ]
  },
  {
   "cell_type": "code",
   "execution_count": null,
   "metadata": {},
   "outputs": [],
   "source": [
    "aws s3 rb \"s3://${S3_BUCKET_NAME}\" --force"
   ]
  },
  {
   "cell_type": "markdown",
   "metadata": {},
   "source": [
    "成功時応答）\n",
    "```text\n",
    "..\n",
    "delete: s3://fargate-handson-56333cb5-a2d0-442d-92fb-4e26f9b5a3dc/fargate-handson-base/Artifacts/qncICBP\n",
    "delete: s3://fargate-handson-56333cb5-a2d0-442d-92fb-4e26f9b5a3dc/fargate-handson-base/SourceCode/iGJNnsS\n",
    "remove_bucket: fargate-handson-56333cb5-a2d0-442d-92fb-4e26f9b5a3dc\n",
    "```"
   ]
  },
  {
   "cell_type": "markdown",
   "metadata": {},
   "source": [
    "## 5.7. CloudWatch Logs の削除"
   ]
  },
  {
   "cell_type": "code",
   "execution_count": null,
   "metadata": {
    "scrolled": true
   },
   "outputs": [],
   "source": [
    "aws logs delete-log-group --log-group-name /aws/codebuild/fargate-handson-base\n",
    "aws logs delete-log-group --log-group-name /aws/codebuild/fargate-handson-base-staging\n",
    "aws logs delete-log-group --log-group-name /aws/codebuild/fargate-handson-base-production\n",
    "aws logs delete-log-group --log-group-name /aws/lambda/fargate-cicd-notification"
   ]
  },
  {
   "cell_type": "markdown",
   "metadata": {},
   "source": [
    "成功時応答）\n",
    "```text\n",
    "なし\n",
    "```"
   ]
  },
  {
   "cell_type": "markdown",
   "metadata": {},
   "source": [
    "最後までお付き合いいただきありがとうございました。  \n",
    "ハンズオンは以上です！"
   ]
  }
 ],
 "metadata": {
  "kernelspec": {
   "display_name": "Bash",
   "language": "bash",
   "name": "bash"
  },
  "language_info": {
   "codemirror_mode": "shell",
   "file_extension": ".sh",
   "mimetype": "text/x-sh",
   "name": "bash"
  }
 },
 "nbformat": 4,
 "nbformat_minor": 2
}
