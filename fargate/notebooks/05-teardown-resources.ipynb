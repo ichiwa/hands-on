{
 "cells": [
  {
   "cell_type": "markdown",
   "metadata": {},
   "source": [
    "# リソースの削除\n",
    "\n",
    "## 1. AWS リソースの削除\n",
    "\n",
    "### 1.1 Fargate の停止"
   ]
  },
  {
   "cell_type": "code",
   "execution_count": null,
   "metadata": {},
   "outputs": [],
   "source": [
    "export BASE_STACK_NAME=\"base\"\n",
    "export FARGATE_STACK_NAME=\"app\"\n",
    "\n",
    "aws cloudformation delete-stack --stack-name \"${FARGATE_STACK_NAME}\"\n",
    "aws cloudformation wait stack-delete-complete --stack-name \"${FARGATE_STACK_NAME}\""
   ]
  },
  {
   "cell_type": "markdown",
   "metadata": {},
   "source": [
    "成功時応答）\n",
    "```text\n",
    "なし\n",
    "```"
   ]
  },
  {
   "cell_type": "markdown",
   "metadata": {},
   "source": [
    "### 1.2. VPC や CI/CD パイプラインの削除"
   ]
  },
  {
   "cell_type": "code",
   "execution_count": null,
   "metadata": {},
   "outputs": [],
   "source": [
    "aws cloudformation delete-stack --stack-name \"${BASE_STACK_NAME}\"\n",
    "aws cloudformation wait stack-delete-complete --stack-name \"${BASE_STACK_NAME}\""
   ]
  },
  {
   "cell_type": "markdown",
   "metadata": {},
   "source": [
    "成功時応答）\n",
    "```text\n",
    "なし\n",
    "```"
   ]
  }
 ],
 "metadata": {
  "kernelspec": {
   "display_name": "Bash",
   "language": "bash",
   "name": "bash"
  },
  "language_info": {
   "codemirror_mode": "shell",
   "file_extension": ".sh",
   "mimetype": "text/x-sh",
   "name": "bash"
  }
 },
 "nbformat": 4,
 "nbformat_minor": 2
}
