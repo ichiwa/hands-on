{
 "cells": [
  {
   "cell_type": "markdown",
   "metadata": {},
   "source": [
    "# 3. 冗長構成の Fargate ステージング環境\n",
    "\n",
    "git の release ブランチへのマージで、ロードバランサを備えた評価用環境が更新される環境を作成します。\n",
    "\n",
    "## 3.1. パイプラインの改変\n",
    "\n",
    "インフラ環境更新に必要な設定値をローカルファイルに追記します。"
   ]
  },
  {
   "cell_type": "code",
   "execution_count": null,
   "metadata": {},
   "outputs": [],
   "source": [
    "cat << EOT >> ~/config/.env \n",
    "export STAGING_STACK_NAME=\"fargate-handson-staging-env\"\n",
    "EOT"
   ]
  },
  {
   "cell_type": "markdown",
   "metadata": {},
   "source": [
    "Edge 環境のリソース定義に [この](/edit/infrastructure/diff/staging) パッチをあてます。  "
   ]
  },
  {
   "cell_type": "code",
   "execution_count": null,
   "metadata": {},
   "outputs": [],
   "source": [
    "patch ~/notebook/infrastructure/sam.yaml < ~/notebook/infrastructure/diff/staging"
   ]
  },
  {
   "cell_type": "markdown",
   "metadata": {},
   "source": [
    "このテンプレートの適用により、以下のような構成へ更新していきます。  \n",
    "<img src=\"/files/notebook-assets/infra-2.png\" width=\"500px\">"
   ]
  },
  {
   "cell_type": "markdown",
   "metadata": {},
   "source": [
    "適用前に、新しい sam.yaml の内容が正しいことを検証します。"
   ]
  },
  {
   "cell_type": "code",
   "execution_count": null,
   "metadata": {},
   "outputs": [],
   "source": [
    "aws cloudformation validate-template --template-body file://infrastructure/sam.yaml"
   ]
  },
  {
   "cell_type": "markdown",
   "metadata": {},
   "source": [
    "成功時応答例）\n",
    "```text\n",
    "{\n",
    "    \"Description\": \"A fargate application with a CI/CD pipeline\",\n",
    "    \"Parameters\": [\n",
    "        {\n",
    "            \"ParameterKey\": \"ProjectID\",\n",
    "            \"NoEcho\": false\n",
    "        },\n",
    "    ..\n",
    "```"
   ]
  },
  {
   "cell_type": "markdown",
   "metadata": {},
   "source": [
    "Lambda 関数を含むテンプレートのため、パッケージングします。"
   ]
  },
  {
   "cell_type": "code",
   "execution_count": null,
   "metadata": {},
   "outputs": [],
   "source": [
    "source ~/config/.env\n",
    "\n",
    "aws cloudformation package \\\n",
    "    --template-file infrastructure/sam.yaml \\\n",
    "    --output-template-file infrastructure/cfn.yaml \\\n",
    "    --s3-bucket \"${S3_BUCKET_NAME}\" \\\n",
    "    --s3-prefix \"cloudformation\""
   ]
  },
  {
   "cell_type": "markdown",
   "metadata": {},
   "source": [
    "成功時応答）\n",
    "```text\n",
    "Uploading to cloudformation/0e64849e597b443d9a1349275098ab43  766 / 766.0  (100.00%)\n",
    "Successfully packaged artifacts and wrote output template to file infrastructure/cfn.yaml\n",
    "..\n",
    "```"
   ]
  },
  {
   "cell_type": "markdown",
   "metadata": {},
   "source": [
    "パッケージングした CloudFormation テンプレートでインフラを更新します。"
   ]
  },
  {
   "cell_type": "code",
   "execution_count": null,
   "metadata": {},
   "outputs": [],
   "source": [
    "aws cloudformation deploy \\\n",
    "    --stack-name \"${BASE_STACK_NAME}\" \\\n",
    "    --template-file infrastructure/cfn.yaml \\\n",
    "    --parameter-overrides \\\n",
    "        ProjectID=\"${PROJECT_ID}\" \\\n",
    "        S3BucketName=\"${S3_BUCKET_NAME}\" \\\n",
    "        EdgeStackName=\"${EDGE_STACK_NAME}\" \\\n",
    "        StagingStackName=\"${STAGING_STACK_NAME}\" \\\n",
    "        ApprovalEmail=\"${GIT_EMAIL_ADDRESS}\" \\\n",
    "    --capabilities CAPABILITY_IAM"
   ]
  },
  {
   "cell_type": "markdown",
   "metadata": {},
   "source": [
    "成功時応答）\n",
    "```text\n",
    "Waiting for changeset to be created..\n",
    "Waiting for stack create/update to complete\n",
    "Successfully created/updated stack - fargate-handson-base\n",
    "```"
   ]
  },
  {
   "cell_type": "markdown",
   "metadata": {},
   "source": [
    "## 3.2. ステージング環境の Fargate を起動する\n",
    "\n",
    "[こちら](/edit/application/deploy/cfn-release.yaml) のテンプレートを使い、ステージング環境を作成します。  \n",
    "この環境はロードバランサーやオートスケーリングの設定がされ、本番環境を想定した構成になっています。\n",
    "\n",
    "```\n",
    "- CloudWatch Logs ロググループ\n",
    "- ECS クラスター\n",
    "- ECS タスク定義\n",
    "- ECS サービス\n",
    "- IAM ロール * 2\n",
    "```\n",
    "\n",
    "TODO: 図を用意する\n",
    "\n",
    "開発環境 Fargate とステージング・本番環境 Fargate の差分を確認してみます。"
   ]
  },
  {
   "cell_type": "code",
   "execution_count": null,
   "metadata": {},
   "outputs": [],
   "source": [
    "diff ~/notebook/application/deploy/cfn-master.yaml \\\n",
    "     ~/notebook/application/deploy/cfn-release.yaml"
   ]
  },
  {
   "cell_type": "markdown",
   "metadata": {},
   "source": [
    "では実際にステージング環境の Fargate をデプロイしてみます。"
   ]
  },
  {
   "cell_type": "code",
   "execution_count": null,
   "metadata": {},
   "outputs": [],
   "source": [
    "DOCKER_IMAGE=dockercloud/hello-world\n",
    "\n",
    "aws cloudformation deploy \\\n",
    "    --stack-name \"${STAGING_STACK_NAME}\" \\\n",
    "    --template-file application/deploy/cfn-release.yaml \\\n",
    "    --parameter-overrides \\\n",
    "        ProjectID=\"${PROJECT_ID}\" \\\n",
    "        DockerImage=\"${DOCKER_IMAGE}\" \\\n",
    "    --capabilities CAPABILITY_IAM"
   ]
  },
  {
   "cell_type": "markdown",
   "metadata": {},
   "source": [
    "成功時応答）\n",
    "```text\n",
    "Waiting for changeset to be created..\n",
    "Waiting for stack create/update to complete\n",
    "Successfully created/updated stack - fargate-handson-staging-env\n",
    "```"
   ]
  },
  {
   "cell_type": "markdown",
   "metadata": {},
   "source": [
    "構築が完了したら、ステージング環境の Fargate を確認してみましょう。"
   ]
  },
  {
   "cell_type": "code",
   "execution_count": null,
   "metadata": {},
   "outputs": [],
   "source": [
    "STAGING_ENDPOINT=\"http://$( aws cloudformation describe-stacks \\\n",
    "    --stack-name \"${STAGING_STACK_NAME}\" --output text \\\n",
    "    --query 'Stacks[*].Outputs[?OutputKey==`LoadBalancerDNSName`].OutputValue' )\"\n",
    "\n",
    "cat << EOT >> ~/config/.env\n",
    "export STAGING_ENDPOINT=\"${STAGING_ENDPOINT}\"\n",
    "EOT\n",
    "echo \"${STAGING_ENDPOINT}\""
   ]
  },
  {
   "cell_type": "markdown",
   "metadata": {},
   "source": [
    "応答例）\n",
    "```text\n",
    "http://farga-LoadB-xxx-xxx.ap-northeast-1.elb.amazonaws.com\n",
    "```"
   ]
  },
  {
   "cell_type": "markdown",
   "metadata": {},
   "source": [
    "ロードバランサー経由で Fargate にアクセスできましたか？  \n",
    "オートスケーリングの設定もされており、これで負荷分散する Fargate の完成です。"
   ]
  },
  {
   "cell_type": "markdown",
   "metadata": {},
   "source": [
    "## 3.3. リリースブランチへのマージでステージング環境を更新する\n",
    "\n",
    "CodeCommit に現在の master ブランチから release ブランチを作り、ステージング環境も更新しましょう。"
   ]
  },
  {
   "cell_type": "code",
   "execution_count": null,
   "metadata": {},
   "outputs": [],
   "source": [
    "cd ~/notebook/application\n",
    "git log -1\n",
    "\n",
    "aws codecommit create-branch \\\n",
    "    --repository-name \"fargate-handson\" \\\n",
    "    --branch-name \"release\" \\\n",
    "    --commit-id \"$( git log -1 --pretty=%H )\""
   ]
  },
  {
   "cell_type": "markdown",
   "metadata": {},
   "source": [
    "応答例）\n",
    "```text\n",
    "commit 2236df05287049512148f204395f0d433c47a382 (HEAD -> master, origin/master)\n",
    "Author: foo <foo@bar.com>\n",
    "Date:   Mon Jul 23 13:24:04 2018 +0000\n",
    "\n",
    "    first commit\n",
    "```"
   ]
  },
  {
   "cell_type": "markdown",
   "metadata": {},
   "source": [
    "CodePipeline のコンソールから、**リリース版パイプライン** が更新されるのを眺めます。"
   ]
  },
  {
   "cell_type": "code",
   "execution_count": null,
   "metadata": {},
   "outputs": [],
   "source": [
    "codebuild_project_name=$( aws cloudformation describe-stacks \\\n",
    "    --stack-name \"${BASE_STACK_NAME}\" --output text \\\n",
    "    --query 'Stacks[*].Outputs[?OutputKey==`CodePipelineRelease`].OutputValue' )\n",
    "codebuild_console=\"https://ap-northeast-1.console.aws.amazon.com/codepipeline/home\"\n",
    "echo \"${codebuild_console}?region=${AWS_DEFAULT_REGION}#/view/${codebuild_project_name}\""
   ]
  },
  {
   "cell_type": "markdown",
   "metadata": {},
   "source": [
    "更新されたら、Fargate の内容が新しくなっていることを確認しましょう。"
   ]
  },
  {
   "cell_type": "code",
   "execution_count": null,
   "metadata": {},
   "outputs": [],
   "source": [
    "echo \"${STAGING_ENDPOINT}\""
   ]
  },
  {
   "cell_type": "markdown",
   "metadata": {},
   "source": [
    "## 3.4. プルリクエストで環境を更新する\n",
    "\n",
    "master を更新し、release に対しプルリクを作成し、マージされることでも同様の環境更新がされることを確認します。\n",
    "\n",
    "### 3.4.1. アプリケーション定義の書き換え、master へ push\n",
    "\n",
    "- Dockerfile を書き換え、ip-api.com へのリバースプロキシを Fargate で動かします\n",
    "- Basic 認証がかかるよう、CodeBuild 経由で cfn.yaml に渡す環境変数をセットします\n",
    "\n",
    "ここまでを git commit -> push します。"
   ]
  },
  {
   "cell_type": "code",
   "execution_count": null,
   "metadata": {
    "scrolled": false
   },
   "outputs": [],
   "source": [
    "cd ~/notebook/application\n",
    "\n",
    "cat << EOF > Dockerfile\n",
    "FROM pottava/proxy\n",
    "\n",
    "ENV APP_PORT=80 \\\\\n",
    "    PROXY_PATTERNS=\"*=http://ip-api.com/json\" \\\\\n",
    "    HEALTHCHECK_PATH=/health \\\\\n",
    "    ACCESS_LOG=true\n",
    "EOF\n",
    "\n",
    "cat << EOT > deploy/edge/env.sh\n",
    "export BASIC_AUTH=\"BasicAuthUsername\":\"edge\",\"BasicAuthPassword\":\"fargate\"\n",
    "EOT\n",
    "chmod +x deploy/edge/env.sh\n",
    "cat << EOT > deploy/staging/env.sh\n",
    "export BASIC_AUTH=\"BasicAuthUsername\":\"staging\",\"BasicAuthPassword\":\"fargate\"\n",
    "EOT\n",
    "chmod +x deploy/staging/env.sh\n",
    "\n",
    "git add .\n",
    "git commit -m \"reverse-proxy to ip-api.com\"\n",
    "git push"
   ]
  },
  {
   "cell_type": "markdown",
   "metadata": {},
   "source": [
    "応答例）\n",
    "```text\n",
    "[master 628191e] reverse-proxy to ip-api.com\n",
    " 2 files changed, 2 insertions(+), 2 deletions(-)\n",
    "Counting objects: 7, done.\n",
    "..\n",
    "```"
   ]
  },
  {
   "cell_type": "markdown",
   "metadata": {},
   "source": [
    "開発（Edge）環境のパイプラインが動き、環境が更新されます。  \n",
    "内容が正しそうか確認しましょう。"
   ]
  },
  {
   "cell_type": "code",
   "execution_count": null,
   "metadata": {},
   "outputs": [],
   "source": [
    "codebuild_project_name=$( aws cloudformation describe-stacks \\\n",
    "    --stack-name \"${BASE_STACK_NAME}\" --output text \\\n",
    "    --query 'Stacks[*].Outputs[?OutputKey==`CodePipeline`].OutputValue' )\n",
    "codebuild_console=\"https://ap-northeast-1.console.aws.amazon.com/codepipeline/home\"\n",
    "echo \"${codebuild_console}?region=${AWS_DEFAULT_REGION}#/view/${codebuild_project_name}\""
   ]
  },
  {
   "cell_type": "code",
   "execution_count": null,
   "metadata": {},
   "outputs": [],
   "source": [
    "cluster_name=$( aws cloudformation describe-stacks \\\n",
    "    --stack-name \"${EDGE_STACK_NAME}\" --output text \\\n",
    "    --query 'Stacks[*].Outputs[?OutputKey==`Cluster`].OutputValue' )\n",
    "task_id=$( aws ecs list-tasks --cluster \"${cluster_name}\" \\\n",
    "    --family \"${EDGE_STACK_NAME}\" | jq -r '.taskArns[0]' )\n",
    "eni_id=$( aws ecs describe-tasks --cluster \"${cluster_name}\" --task \"${task_id}\" \\\n",
    "    | jq '.tasks[0].attachments[0].details[]' \\\n",
    "    | jq -r 'select( .name | contains(\"networkInterfaceId\")).value' )\n",
    "edge_endpoint=\"http://$( aws ec2 describe-network-interfaces \\\n",
    "    --network-interface-ids ${eni_id} \\\n",
    "    | jq -r '.NetworkInterfaces[].Association.PublicIp' )\"\n",
    "\n",
    "echo \"${edge_endpoint}/json\""
   ]
  },
  {
   "cell_type": "markdown",
   "metadata": {},
   "source": [
    "Basic 認証は上記変更の通り、ユーザー名は **edge**、パスワードは **fargate** です。\n",
    "\n",
    "ブラウザでアクセスすると、以下のような JSON か返ってくるかと思います。   \n",
    "応答例）\n",
    "```\n",
    "{\n",
    "  as: \"AS16509 Amazon.com, Inc.\",\n",
    "  countryCode: \"JP\",\n",
    "  city: \"Tokyo\",\n",
    "  country: \"Japan\",\n",
    "  isp: \"Amazon.com\",\n",
    "  query: \"13.115.178.180\",\n",
    "  ..\n",
    "}\n",
    "```"
   ]
  },
  {
   "cell_type": "markdown",
   "metadata": {},
   "source": [
    "Edge 環境で動作確認が取れたら、release ブランチに対してプルリクエストを作成します。"
   ]
  },
  {
   "cell_type": "code",
   "execution_count": null,
   "metadata": {},
   "outputs": [],
   "source": [
    "repo=\"fargate-handson\"\n",
    "aws codecommit create-pull-request \\\n",
    "    --title \"My first Pull Request\" \\\n",
    "    --description \"Please review this immediately!\" \\\n",
    "    --targets \"repositoryName=${repo},sourceReference=master,destinationReference=release\""
   ]
  },
  {
   "cell_type": "markdown",
   "metadata": {},
   "source": [
    "応答例）\n",
    "```text\n",
    "{\n",
    "    \"pullRequest\": {\n",
    "        \"pullRequestId\": \"1\",\n",
    "        \"title\": \"My first Pull Request\",\n",
    "        \"description\": \"Please review this immediately!\",\n",
    "        \"pullRequestTargets\": [\n",
    "            {\n",
    "                \"repositoryName\": \"fargate-handson\",\n",
    "                \"sourceReference\": \"refs/heads/master\",\n",
    "                \"destinationReference\": \"refs/heads/release\",\n",
    "    ..\n",
    "}\n",
    "```"
   ]
  },
  {
   "cell_type": "markdown",
   "metadata": {},
   "source": [
    "残念ながら、孤独に一人で開発中なので、自分でレビューをしてマージしましょう・・  \n",
    "https://ap-northeast-1.console.aws.amazon.com/codecommit/home?region=ap-northeast-1#/repository/fargate-handson/pull-requests"
   ]
  },
  {
   "cell_type": "markdown",
   "metadata": {},
   "source": [
    "release ブランチにマージされると、ステージング環境へのデプロイが開始されます。"
   ]
  },
  {
   "cell_type": "code",
   "execution_count": null,
   "metadata": {},
   "outputs": [],
   "source": [
    "codebuild_project_name=$( aws cloudformation describe-stacks \\\n",
    "    --stack-name \"${BASE_STACK_NAME}\" --output text \\\n",
    "    --query 'Stacks[*].Outputs[?OutputKey==`CodePipelineRelease`].OutputValue' )\n",
    "codebuild_console=\"https://ap-northeast-1.console.aws.amazon.com/codepipeline/home\"\n",
    "echo \"${codebuild_console}?region=${AWS_DEFAULT_REGION}#/view/${codebuild_project_name}\""
   ]
  },
  {
   "cell_type": "markdown",
   "metadata": {},
   "source": [
    "ステージング環境でも内容が変更されたことを確認してみましょう。"
   ]
  },
  {
   "cell_type": "code",
   "execution_count": null,
   "metadata": {
    "scrolled": true
   },
   "outputs": [],
   "source": [
    "echo \"${STAGING_ENDPOINT}/json\""
   ]
  },
  {
   "cell_type": "markdown",
   "metadata": {},
   "source": [
    "Basic 認証のユーザー名は **staging**、パスワードは **fargate** です。\n",
    "\n",
    "開発環境同様、以下のような JSON か返ってくれば OK です！   \n",
    "応答例）\n",
    "```\n",
    "{\n",
    "  as: \"AS16509 Amazon.com, Inc.\",\n",
    "  countryCode: \"JP\",\n",
    "  city: \"Tokyo\",\n",
    "  country: \"Japan\",\n",
    "  isp: \"Amazon.com\",\n",
    "  query: \"13.115.178.180\",\n",
    "  ..\n",
    "}\n",
    "```"
   ]
  }
 ],
 "metadata": {
  "kernelspec": {
   "display_name": "Bash",
   "language": "bash",
   "name": "bash"
  },
  "language_info": {
   "codemirror_mode": "shell",
   "file_extension": ".sh",
   "mimetype": "text/x-sh",
   "name": "bash"
  }
 },
 "nbformat": 4,
 "nbformat_minor": 2
}
